{
 "cells": [
  {
   "cell_type": "markdown",
   "metadata": {},
   "source": [
    "# WORKHUMAN ASSESSMENT SOLUTION"
   ]
  },
  {
   "cell_type": "markdown",
   "metadata": {},
   "source": [
    "- ## Import necessary libraries"
   ]
  },
  {
   "cell_type": "code",
   "execution_count": 1,
   "metadata": {},
   "outputs": [],
   "source": [
    "import pandas as pd\n",
    "from langchain.prompts import PromptTemplate\n",
    "from langchain.llms import OpenAI\n",
    "from langchain.chains import LLMChain\n",
    "from langchain_core.output_parsers import JsonOutputParser\n",
    "from pydantic import BaseModel, Field\n",
    "import warnings\n",
    "warnings.filterwarnings('ignore')"
   ]
  },
  {
   "cell_type": "markdown",
   "metadata": {},
   "source": [
    "- ## Create a sample DataFrame"
   ]
  },
  {
   "cell_type": "code",
   "execution_count": 2,
   "metadata": {
    "scrolled": true
   },
   "outputs": [
    {
     "data": {
      "text/html": [
       "<div>\n",
       "<style scoped>\n",
       "    .dataframe tbody tr th:only-of-type {\n",
       "        vertical-align: middle;\n",
       "    }\n",
       "\n",
       "    .dataframe tbody tr th {\n",
       "        vertical-align: top;\n",
       "    }\n",
       "\n",
       "    .dataframe thead th {\n",
       "        text-align: right;\n",
       "    }\n",
       "</style>\n",
       "<table border=\"1\" class=\"dataframe\">\n",
       "  <thead>\n",
       "    <tr style=\"text-align: right;\">\n",
       "      <th></th>\n",
       "      <th>division</th>\n",
       "      <th>country</th>\n",
       "      <th>articles_count</th>\n",
       "    </tr>\n",
       "  </thead>\n",
       "  <tbody>\n",
       "    <tr>\n",
       "      <th>0</th>\n",
       "      <td>sports</td>\n",
       "      <td>USA</td>\n",
       "      <td>50</td>\n",
       "    </tr>\n",
       "    <tr>\n",
       "      <th>1</th>\n",
       "      <td>sports</td>\n",
       "      <td>UK</td>\n",
       "      <td>30</td>\n",
       "    </tr>\n",
       "    <tr>\n",
       "      <th>2</th>\n",
       "      <td>sports</td>\n",
       "      <td>India</td>\n",
       "      <td>20</td>\n",
       "    </tr>\n",
       "    <tr>\n",
       "      <th>3</th>\n",
       "      <td>politics</td>\n",
       "      <td>USA</td>\n",
       "      <td>25</td>\n",
       "    </tr>\n",
       "    <tr>\n",
       "      <th>4</th>\n",
       "      <td>politics</td>\n",
       "      <td>UK</td>\n",
       "      <td>15</td>\n",
       "    </tr>\n",
       "  </tbody>\n",
       "</table>\n",
       "</div>"
      ],
      "text/plain": [
       "   division country  articles_count\n",
       "0    sports     USA              50\n",
       "1    sports      UK              30\n",
       "2    sports   India              20\n",
       "3  politics     USA              25\n",
       "4  politics      UK              15"
      ]
     },
     "execution_count": 2,
     "metadata": {},
     "output_type": "execute_result"
    }
   ],
   "source": [
    "# Dummy data for testing\n",
    "data = {\n",
    "    \"division\": [\"sports\", \"sports\", \"sports\", \"politics\", \"politics\", \"politics\",\n",
    "                 \"entertainment\", \"entertainment\", \"entertainment\", \"crime\", \"crime\", \"crime\",\n",
    "                 \"technology\", \"technology\", \"technology\", \"lifestyle\", \"lifestyle\", \"lifestyle\", \"economy\", \"economy\"],\n",
    "    \"country\": [\"USA\", \"UK\", \"India\", \"USA\", \"UK\", \"India\", \"USA\", \"UK\", \"India\", \"USA\", \"UK\", \"India\",\n",
    "                \"Canada\", \"Ireland\", \"Canada\", \"Ireland\", \"Canada\", \"Ireland\", \"Canada\", \"Ireland\"],\n",
    "    \"articles_count\": [50, 30, 20, 25, 15, 35, 40, 22, 18, 27, 10, 33, 19, 29, 21, 14, 12, 32, 31, 23]\n",
    "}\n",
    "\n",
    "df = pd.DataFrame(data)\n",
    "df.head()"
   ]
  },
  {
   "cell_type": "markdown",
   "metadata": {},
   "source": [
    "- ## Load API keys"
   ]
  },
  {
   "cell_type": "code",
   "execution_count": 3,
   "metadata": {},
   "outputs": [],
   "source": [
    "import os\n",
    "from dotenv import find_dotenv, load_dotenv\n",
    "\n",
    "load_dotenv(find_dotenv())\n",
    "oa_api_key = str(os.getenv(\"OA_API_KEY\"))\n",
    "ls_api_key = str(os.environ['LANGSMITH_API_KEY'])"
   ]
  },
  {
   "cell_type": "markdown",
   "metadata": {},
   "source": [
    "- ## Register the application with LangSmith"
   ]
  },
  {
   "cell_type": "code",
   "execution_count": 4,
   "metadata": {},
   "outputs": [],
   "source": [
    "os.environ[\"LANGCHAIN_TRACING_V2\"] = \"true\"\n",
    "os.environ[\"LANGCHAIN_ENDPOINT\"] = \"https://api.smith.langchain.com\"\n",
    "os.environ[\"LANGCHAIN_PROJECT\"] = \"workhuman_assessment\"\n",
    "\n",
    "from langsmith import Client\n",
    "client = Client(api_key=ls_api_key)"
   ]
  },
  {
   "cell_type": "markdown",
   "metadata": {},
   "source": [
    "- ## Initialize LLM and define output parser"
   ]
  },
  {
   "cell_type": "code",
   "execution_count": 5,
   "metadata": {},
   "outputs": [],
   "source": [
    "llm = OpenAI(api_key=oa_api_key)\n",
    "\n",
    "class ArticleQueryResponse(BaseModel):\n",
    "    Columns: list[str] = Field(default=[\"articles_count\"])\n",
    "    Filters: dict = Field(description=\"Filters used to retrieve the count of articles\")\n",
    "    articles_count: int = Field(description=\"Retrieved count of matching articles\")\n",
    "    error: str = Field(default=None)\n",
    "\n",
    "parser = JsonOutputParser(pydantic_object=ArticleQueryResponse)"
   ]
  },
  {
   "cell_type": "markdown",
   "metadata": {},
   "source": [
    "- ## Define the prompt template"
   ]
  },
  {
   "cell_type": "code",
   "execution_count": 6,
   "metadata": {},
   "outputs": [],
   "source": [
    "template = \"\"\"\n",
    "You are an intelligent assistant that helps the internal members of an international newspaper.\n",
    "Your main task is to process user queries regarding article counts in specific divisions and countries.\n",
    "Determine if the query is relevant to article counts in specific divisions and countries:\n",
    "Examples of relevant queries:\n",
    "1. \"Tell me the number of articles published by journalists in the Sports journalism division in the United States.\"\n",
    "2. \"How many articles were published in the Entertainment division in France?\"\n",
    "3. \"What is the article count for the Politics division in Germany?\"\n",
    "Examples of irrelevant queries:\n",
    "1. \"Who is Sergio Ramos?\"\n",
    "2. \"What is the weather like in New York?\"\n",
    "3. \"Tell me about the history of the Eiffel Tower.\"\n",
    "Steps:\n",
    "1. Analyze the query to identify if it includes keywords related to article counts such as \"number of articles\", \"article counts\", \"division\", and \"country\".\n",
    "2. If the query is not relevant, return:\n",
    "{{\n",
    "    \"error\": \"query not relevant to the use case\"\n",
    "}}\n",
    "3. If the query is relevant, extract the entities from the user query.\n",
    "4. Use the provided DataFrame to fetch the number of articles for the identified division and country.\n",
    "5. If no matching records are found for the specified division and country in the DataFrame, return:\n",
    "{{\n",
    "    \"Columns\": [\"articles_count\"],\n",
    "    \"Filters\": {{\n",
    "        \"Division\": \"<extracted division>\",\n",
    "        \"Country\": \"<extracted country>\"\n",
    "    }},\n",
    "    \"articles_count\": 0,\n",
    "    \"error\": \"no data available\"\n",
    "}}\n",
    "6. If matching records are found, return:\n",
    "{{\n",
    "    \"Columns\": [\"articles_count\"],\n",
    "    \"Filters\": {{\n",
    "        \"Division\": \"<extracted division>\",\n",
    "        \"Country\": \"<extracted country>\"\n",
    "    }},\n",
    "    \"articles_count\": <count of articles>\n",
    "}}\n",
    "\n",
    "Query: \"{query}\"\n",
    "DataFrame: {df}\n",
    "\n",
    "Ensure to return JSON directly in the expected format without any additional text or explanation.\n",
    "\"\"\""
   ]
  },
  {
   "cell_type": "markdown",
   "metadata": {},
   "source": [
    "- ## Define the LLM chain"
   ]
  },
  {
   "cell_type": "code",
   "execution_count": 7,
   "metadata": {},
   "outputs": [],
   "source": [
    "prompt = PromptTemplate(\n",
    "    template=template,\n",
    "    input_variables=[\"query\", \"df\"]\n",
    ")\n",
    "\n",
    "chain = LLMChain(llm=llm, prompt=prompt, output_parser=parser)"
   ]
  },
  {
   "cell_type": "markdown",
   "metadata": {},
   "source": [
    "- ## Define a function to process user queries"
   ]
  },
  {
   "cell_type": "code",
   "execution_count": 8,
   "metadata": {},
   "outputs": [],
   "source": [
    "def process_query(query: str, df: pd.DataFrame) -> dict:\n",
    "    \"\"\"\n",
    "    Process a user query to determine article counts for specific divisions and countries.\n",
    "    \n",
    "    Parameters:\n",
    "    query (str): The user query.\n",
    "    df (pd.DataFrame): The DataFrame to use for fetching article counts.\n",
    "    \n",
    "    Returns:\n",
    "    dict: Processed and validated response.\n",
    "    \"\"\"\n",
    "    response = chain.run({\"query\": query, \"df\": df.to_dict(orient='records')})\n",
    "    return response"
   ]
  },
  {
   "cell_type": "markdown",
   "metadata": {},
   "source": [
    "- ## Run the application with example queries"
   ]
  },
  {
   "cell_type": "code",
   "execution_count": 9,
   "metadata": {
    "scrolled": false
   },
   "outputs": [
    {
     "name": "stdout",
     "output_type": "stream",
     "text": [
      "user_query 1: Tell me the number of articles published by journalists in the Sports journalism division in the United States\n",
      "response 1: {'Columns': ['articles_count'], 'Filters': {'Division': 'sports', 'Country': 'USA'}, 'articles_count': 50} \n",
      "\n",
      "user_query 2: How many articles were published in the Entertainment division in Croatia?\n",
      "response 2: {'Columns': ['articles_count'], 'Filters': {'Division': 'entertainment', 'Country': 'Croatia'}, 'articles_count': 0, 'error': 'no data available'} \n",
      "\n",
      "user_query 3: when is the christmas celebrated?\n",
      "response 3: {'error': 'query not relevant to the use case'} \n",
      "\n",
      "user_query 4: What are the number of articles in crime section in India?\n",
      "response 4: {'Columns': ['articles_count'], 'Filters': {'Division': 'crime', 'Country': 'India'}, 'articles_count': 33} \n",
      "\n"
     ]
    }
   ],
   "source": [
    "user_queries = [\n",
    "    \"Tell me the number of articles published by journalists in the Sports journalism division in the United States\",\n",
    "    \"How many articles were published in the Entertainment division in Croatia?\",\n",
    "    \"when is the christmas celebrated?\",\n",
    "    \"What are the number of articles in crime section in India?\"\n",
    "]\n",
    "\n",
    "# Process and print results\n",
    "results = [process_query(query, df) for query in user_queries]\n",
    "for i in range(len(results)):\n",
    "    print(f'user_query {int(i+1)}:', user_queries[i])\n",
    "    print(f'response {int(i+1)}:', results[i], '\\n')"
   ]
  },
  {
   "cell_type": "markdown",
   "metadata": {},
   "source": [
    "# -----------------------------------------------------------------------------------------------------------"
   ]
  },
  {
   "cell_type": "markdown",
   "metadata": {},
   "source": [
    "- ## Create a dataset in LangSmith for application performance evaluation"
   ]
  },
  {
   "cell_type": "markdown",
   "metadata": {},
   "source": [
    "### Only need to run once\n",
    "example_inputs = [\n",
    "    (\"Tell me the number of articles published by journalists in the Sports journalism division in the United States\", '{\"Columns\": [\"articles_count\"], \"Filters\": {\"Division\": \"sports\", \"Country\": \"USA\"}, \"articles_count\": 50}'),\n",
    "    (\"How many articles were published in the Entertainment division in France?\", '{\"Columns\": [\"articles_count\"], \"Filters\": {\"Division\": \"entertainment\", \"Country\": \"France\"}, \"articles_count\": 0, \"error\": \"no data available\"}'),\n",
    "    (\"What is the article count for the Politics division in Germany?\", '{\"Columns\": [\"articles_count\"], \"Filters\": {\"Division\": \"politics\", \"Country\": \"Germany\"}, \"articles_count\": 0, \"error\": \"no data available\"}'),\n",
    "    (\"What are the number of articles in the Crime division in Canada?\", '{\"Columns\": [\"articles_count\"], \"Filters\": {\"Division\": \"crime\", \"Country\": \"Canada\"}, \"articles_count\": 0, \"error\": \"no data available\"}'),\n",
    "    (\"How many articles were published in the Sports division in Japan?\", '{\"Columns\": [\"articles_count\"], \"Filters\": {\"Division\": \"sports\", \"Country\": \"Japan\"}, \"articles_count\": 0, \"error\": \"no data available\"}'),\n",
    "    (\"Tell me the number of articles in the Entertainment division in the UK\", '{\"Columns\": [\"articles_count\"], \"Filters\": {\"Division\": \"entertainment\", \"Country\": \"UK\"}, \"articles_count\": 22}'),\n",
    "    (\"What is the article count for the Politics division in Italy?\", '{\"Columns\": [\"articles_count\"], \"Filters\": {\"Division\": \"politics\", \"Country\": \"Italy\"}, \"articles_count\": 0, \"error\": \"no data available\"}'),\n",
    "    (\"How many articles were published in the Crime division in India?\", '{\"Columns\": [\"articles_count\"], \"Filters\": {\"Division\": \"crime\", \"Country\": \"India\"}, \"articles_count\": 33}'),\n",
    "    (\"Tell me the number of articles published by journalists in the Sports division in Great Britain\", '{\"Columns\": [\"articles_count\"], \"Filters\": {\"Division\": \"sports\", \"Country\": \"UK\"}, \"articles_count\": 30}'),\n",
    "    (\"What are the number of articles in the Economy division in Canada?\", '{\"Columns\": [\"articles_count\"], \"Filters\": {\"Division\": \"economy\", \"Country\": \"Canada\"}, \"articles_count\": 31}'),\n",
    "    (\"What is the article count for the Politics division in the United States?\", '{\"Columns\": [\"articles_count\"], \"Filters\": {\"Division\": \"politics\", \"Country\": \"USA\"}, \"articles_count\": 25}'),\n",
    "    (\"How many articles were published in the Crime division in France?\", '{\"Columns\": [\"articles_count\"], \"Filters\": {\"Division\": \"crime\", \"Country\": \"France\"}, \"articles_count\": 0, \"error\": \"no data available\"}'),\n",
    "    (\"Tell me the number of articles in the Sports division in Italy\", '{\"Columns\": [\"articles_count\"], \"Filters\": {\"Division\": \"sports\", \"Country\": \"Italy\"}, \"articles_count\": 0, \"error\": \"no data available\"}'),\n",
    "    (\"What are the number of articles in the Entertainment division in Japan?\", '{\"Columns\": [\"articles_count\"], \"Filters\": {\"Division\": \"entertainment\", \"Country\": \"Japan\"}, \"articles_count\": 0, \"error\": \"no data available\"}'),\n",
    "    (\"What is the article count for the Politics division in the UK?\", '{\"Columns\": [\"articles_count\"], \"Filters\": {\"Division\": \"politics\", \"Country\": \"UK\"}, \"articles_count\": 15}'),\n",
    "    (\"How to solve rubics cube?\", '{\"error\": \"query not relevant to the use case\"}'),\n",
    "    (\"What is the weather like in New York?\", '{\"error\": \"query not relevant to the use case\"}'),\n",
    "    (\"Tell me about the history of the Eiffel Tower.\", '{\"error\": \"query not relevant to the use case\"}'),\n",
    "    (\"What is the capital of Australia?\", '{\"error\": \"query not relevant to the use case\"}'),\n",
    "    (\"Who won the last World Cup?\", '{\"error\": \"query not relevant to the use case\"}')\n",
    "]\n",
    "\n",
    "df_dataset = pd.DataFrame(example_inputs, columns=[\"Question\", \"Answer\"])\n",
    "df_dataset.head()\n",
    "\n",
    "input_keys = [\"Question\"]\n",
    "output_keys = [\"Answer\"]\n",
    "\n",
    "### Create and register dataset\n",
    "dataset = client.upload_dataframe(\n",
    "    df=df_dataset,\n",
    "    input_keys=input_keys,\n",
    "    output_keys=output_keys,\n",
    "    name=\"wh_dataset\",\n",
    "    description=\"Dataset created from a WH assessment\",\n",
    "    data_type=\"kv\",\n",
    ")"
   ]
  },
  {
   "cell_type": "markdown",
   "metadata": {},
   "source": [
    "- ## The evaluation of the application is done in LangSmith console"
   ]
  },
  {
   "cell_type": "code",
   "execution_count": null,
   "metadata": {},
   "outputs": [],
   "source": []
  }
 ],
 "metadata": {
  "kernelspec": {
   "display_name": "Python 3 (ipykernel)",
   "language": "python",
   "name": "python3"
  },
  "language_info": {
   "codemirror_mode": {
    "name": "ipython",
    "version": 3
   },
   "file_extension": ".py",
   "mimetype": "text/x-python",
   "name": "python",
   "nbconvert_exporter": "python",
   "pygments_lexer": "ipython3",
   "version": "3.10.9"
  }
 },
 "nbformat": 4,
 "nbformat_minor": 2
}
